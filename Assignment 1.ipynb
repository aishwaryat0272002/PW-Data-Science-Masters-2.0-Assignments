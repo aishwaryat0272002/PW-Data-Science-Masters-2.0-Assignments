{
 "cells": [
  {
   "cell_type": "markdown",
   "id": "109dd820-1748-4e2b-ab01-1758725accb3",
   "metadata": {},
   "source": [
    "                                    ASSIGNMENT - 1\n",
    "\n",
    "Q1. Create one variable containing following type of data:(i)String (ii) List (iii) Float (iv) Tuple"
   ]
  },
  {
   "cell_type": "code",
   "execution_count": 40,
   "id": "5e288890-cd81-42df-a1a7-3b1df5deb050",
   "metadata": {},
   "outputs": [
    {
     "data": {
      "text/plain": [
       "str"
      ]
     },
     "execution_count": 40,
     "metadata": {},
     "output_type": "execute_result"
    }
   ],
   "source": [
    "x = \"Hello World\"\n",
    "type(x)"
   ]
  },
  {
   "cell_type": "code",
   "execution_count": 2,
   "id": "b01cd82e-b7bf-4bd9-a273-3d76fa207761",
   "metadata": {},
   "outputs": [
    {
     "data": {
      "text/plain": [
       "list"
      ]
     },
     "execution_count": 2,
     "metadata": {},
     "output_type": "execute_result"
    }
   ],
   "source": [
    "l = [1,2,3,4, \"data\", 40.3, True]\n",
    "type(l)"
   ]
  },
  {
   "cell_type": "code",
   "execution_count": 13,
   "id": "00888152-0e14-4d3b-a459-1e15335e8254",
   "metadata": {},
   "outputs": [
    {
     "data": {
      "text/plain": [
       "float"
      ]
     },
     "execution_count": 13,
     "metadata": {},
     "output_type": "execute_result"
    }
   ],
   "source": [
    "# float\n",
    "f = 40.3\n",
    "type(f)"
   ]
  },
  {
   "cell_type": "code",
   "execution_count": 4,
   "id": "1c9ebbb1-aa66-4fcc-aa4e-99e172545271",
   "metadata": {},
   "outputs": [
    {
     "data": {
      "text/plain": [
       "tuple"
      ]
     },
     "execution_count": 4,
     "metadata": {},
     "output_type": "execute_result"
    }
   ],
   "source": [
    "# tuple\n",
    "t = (\"apple\", \"banana\", \"mango\")\n",
    "type(t)"
   ]
  },
  {
   "cell_type": "markdown",
   "id": "d5c3406b-9230-4e7a-affd-869794cae2fd",
   "metadata": {},
   "source": [
    "Q2. Given are some following Variables containing data:"
   ]
  },
  {
   "cell_type": "code",
   "execution_count": 5,
   "id": "d8a09e9d-972c-4073-9148-964684cb4110",
   "metadata": {},
   "outputs": [
    {
     "data": {
      "text/plain": [
       "str"
      ]
     },
     "execution_count": 5,
     "metadata": {},
     "output_type": "execute_result"
    }
   ],
   "source": [
    "var1= ''\n",
    "type(var1)"
   ]
  },
  {
   "cell_type": "code",
   "execution_count": 6,
   "id": "e3db00f2-adca-455e-bafc-c9898653a64d",
   "metadata": {},
   "outputs": [
    {
     "data": {
      "text/plain": [
       "str"
      ]
     },
     "execution_count": 6,
     "metadata": {},
     "output_type": "execute_result"
    }
   ],
   "source": [
    "var2='[ DS, ML, PYTHON ]'\n",
    "type(var2)"
   ]
  },
  {
   "cell_type": "code",
   "execution_count": 7,
   "id": "14fb02d9-c91b-4356-83b1-75f95c0e4c5d",
   "metadata": {},
   "outputs": [
    {
     "data": {
      "text/plain": [
       "list"
      ]
     },
     "execution_count": 7,
     "metadata": {},
     "output_type": "execute_result"
    }
   ],
   "source": [
    "var3= [ 'DS', 'ML', 'PYTHON' ]\n",
    "type(var3)"
   ]
  },
  {
   "cell_type": "code",
   "execution_count": 8,
   "id": "e9db9d1f-d559-420f-ac8b-e1fd7d1922ce",
   "metadata": {},
   "outputs": [
    {
     "data": {
      "text/plain": [
       "float"
      ]
     },
     "execution_count": 8,
     "metadata": {},
     "output_type": "execute_result"
    }
   ],
   "source": [
    "var4= 1.\n",
    "type(var4)"
   ]
  },
  {
   "cell_type": "markdown",
   "id": "d425e69e-a67b-465f-b594-08f13487868f",
   "metadata": {},
   "source": [
    "Q3. Explain the use of the following variables using example:"
   ]
  },
  {
   "cell_type": "code",
   "execution_count": 9,
   "id": "527bd0c7-8612-4978-8e13-0848647a1c4b",
   "metadata": {},
   "outputs": [
    {
     "data": {
      "text/plain": [
       "3.0"
      ]
     },
     "execution_count": 9,
     "metadata": {},
     "output_type": "execute_result"
    }
   ],
   "source": [
    "6/2 #Division operator "
   ]
  },
  {
   "cell_type": "code",
   "execution_count": 10,
   "id": "2b6d6cda-606b-4153-b818-07a5b42993be",
   "metadata": {},
   "outputs": [
    {
     "data": {
      "text/plain": [
       "4"
      ]
     },
     "execution_count": 10,
     "metadata": {},
     "output_type": "execute_result"
    }
   ],
   "source": [
    "4%5 #Modulus operator"
   ]
  },
  {
   "cell_type": "code",
   "execution_count": 11,
   "id": "a4d9395d-9f9b-4031-bf97-c4b4ba90bd3c",
   "metadata": {},
   "outputs": [
    {
     "data": {
      "text/plain": [
       "1"
      ]
     },
     "execution_count": 11,
     "metadata": {},
     "output_type": "execute_result"
    }
   ],
   "source": [
    "8//6 #Floor divison "
   ]
  },
  {
   "cell_type": "code",
   "execution_count": 12,
   "id": "7ac2a141-62c5-4d43-a48e-fbbc6128263e",
   "metadata": {},
   "outputs": [
    {
     "data": {
      "text/plain": [
       "8"
      ]
     },
     "execution_count": 12,
     "metadata": {},
     "output_type": "execute_result"
    }
   ],
   "source": [
    "2**3 #Exponent"
   ]
  },
  {
   "cell_type": "markdown",
   "id": "7567b9dd-0cb6-420c-b547-dc75b0a1f7ab",
   "metadata": {},
   "source": [
    "Q4. Create a list of length 10  of your choice containing multiple types of data. using for loop print the element and its data type."
   ]
  },
  {
   "cell_type": "code",
   "execution_count": 14,
   "id": "3f730eb4-e19d-42ff-9108-899be8903b3e",
   "metadata": {},
   "outputs": [
    {
     "name": "stdout",
     "output_type": "stream",
     "text": [
      "<class 'int'>\n",
      "1\n",
      "<class 'int'>\n",
      "2\n",
      "<class 'int'>\n",
      "3\n",
      "<class 'int'>\n",
      "4\n",
      "<class 'int'>\n",
      "5\n",
      "<class 'int'>\n",
      "6\n",
      "<class 'str'>\n",
      "string\n",
      "<class 'float'>\n",
      "40.3\n",
      "<class 'complex'>\n",
      "1j\n",
      "<class 'bool'>\n",
      "True\n"
     ]
    }
   ],
   "source": [
    "l = [ 1,2,3,4,5,6, \"string\" , 40.3 , 1j , True]\n",
    "for i in l:\n",
    "    print(type(i))\n",
    "    print(i)"
   ]
  },
  {
   "cell_type": "markdown",
   "id": "e93e9e9a-e797-4bee-8fdd-e93a918f4cb6",
   "metadata": {},
   "source": [
    "Q5. using a while loop, verify if the number A is purely divisible by number B and if so then how many times it can be divisible."
   ]
  },
  {
   "cell_type": "code",
   "execution_count": 19,
   "id": "8f0c1bdf-f3e3-4db4-b1f7-eff0dcb55e43",
   "metadata": {},
   "outputs": [
    {
     "name": "stdout",
     "output_type": "stream",
     "text": [
      " A is purely divisible by B(n) times \n"
     ]
    }
   ],
   "source": [
    "A = 6\n",
    "B = 3\n",
    "n = 0 \n",
    "\n",
    "while A % B ==  0:\n",
    "    n += 1 \n",
    "    A = A // B\n",
    "    \n",
    "    if n > 0:\n",
    "        print ( \" A is purely divisible by B(n) times \" )\n",
    "    else:\n",
    "            print ( \" A is not divisible by B \" )"
   ]
  },
  {
   "cell_type": "markdown",
   "id": "b65151ec-d865-43cf-9388-2cf27252ad76",
   "metadata": {},
   "source": [
    "Q6. Create a list containing 25 int type data. Using for loop and if-else condition print if the element is divisible by 3 or not."
   ]
  },
  {
   "cell_type": "code",
   "execution_count": 20,
   "id": "12ed7d6c-1a8e-4e64-a3b2-026b3e85f9d7",
   "metadata": {},
   "outputs": [],
   "source": [
    "l = [ 15, 3 , 25 , 67 ]"
   ]
  },
  {
   "cell_type": "code",
   "execution_count": 21,
   "id": "30075486-7bbe-4eb3-9ec2-582255a91099",
   "metadata": {},
   "outputs": [
    {
     "data": {
      "text/plain": [
       "[15, 3, 25, 67]"
      ]
     },
     "execution_count": 21,
     "metadata": {},
     "output_type": "execute_result"
    }
   ],
   "source": [
    "l"
   ]
  },
  {
   "cell_type": "code",
   "execution_count": 23,
   "id": "06d9fbbb-7350-4a12-af69-309bace2f370",
   "metadata": {},
   "outputs": [
    {
     "name": "stdout",
     "output_type": "stream",
     "text": [
      " i is divisible by 3\n",
      " i is divisible by 3\n",
      " i is not divisible by 3\n",
      " i is not divisible by 3\n"
     ]
    }
   ],
   "source": [
    "for i in l:\n",
    "    if i % 3 == 0:\n",
    "        print(\" i is divisible by 3\")\n",
    "    else:\n",
    "        print(\" i is not divisible by 3\")"
   ]
  },
  {
   "cell_type": "markdown",
   "id": "3482b219-fa4d-48f3-84b1-45ae06d3fc28",
   "metadata": {},
   "source": [
    "Q7. What do you understand about mutable and immutable data types? Give example for both showing this property."
   ]
  },
  {
   "cell_type": "code",
   "execution_count": 25,
   "id": "317b8eb7-6aa9-4901-b7c0-eed3aada9d7d",
   "metadata": {},
   "outputs": [],
   "source": [
    "# List is mutable object \n",
    "l = [ 1,2,3,4,5,6, \"Aish\", (3+7j), True , 34.56 ]\n"
   ]
  },
  {
   "cell_type": "code",
   "execution_count": 26,
   "id": "2521b1ba-fa93-4025-a5c6-a0dccbb849fa",
   "metadata": {},
   "outputs": [
    {
     "data": {
      "text/plain": [
       "[1, 2, 3, 4, 5, 6, 'Aish', (3+7j), True, 34.56]"
      ]
     },
     "execution_count": 26,
     "metadata": {},
     "output_type": "execute_result"
    }
   ],
   "source": [
    "l"
   ]
  },
  {
   "cell_type": "code",
   "execution_count": 28,
   "id": "7b50acda-0494-4fe9-a74d-9d140943f9a3",
   "metadata": {},
   "outputs": [
    {
     "data": {
      "text/plain": [
       "2"
      ]
     },
     "execution_count": 28,
     "metadata": {},
     "output_type": "execute_result"
    }
   ],
   "source": [
    "l[1]"
   ]
  },
  {
   "cell_type": "code",
   "execution_count": 29,
   "id": "ce17dc67-2ac0-4ca9-91a0-ca329d195cd7",
   "metadata": {},
   "outputs": [],
   "source": [
    "l[1] = 300"
   ]
  },
  {
   "cell_type": "code",
   "execution_count": 30,
   "id": "843b17b5-8b1f-4f64-9aab-03c8c479334c",
   "metadata": {},
   "outputs": [
    {
     "data": {
      "text/plain": [
       "300"
      ]
     },
     "execution_count": 30,
     "metadata": {},
     "output_type": "execute_result"
    }
   ],
   "source": [
    "l[1]"
   ]
  },
  {
   "cell_type": "code",
   "execution_count": 31,
   "id": "d34e6bd8-35f1-433b-86d2-a8da2296114b",
   "metadata": {},
   "outputs": [
    {
     "data": {
      "text/plain": [
       "[1, 300, 3, 4, 5, 6, 'Aish', (3+7j), True, 34.56]"
      ]
     },
     "execution_count": 31,
     "metadata": {},
     "output_type": "execute_result"
    }
   ],
   "source": [
    "l"
   ]
  },
  {
   "cell_type": "code",
   "execution_count": 36,
   "id": "17495dd2-a282-4ca5-89cb-762472f63e94",
   "metadata": {},
   "outputs": [],
   "source": [
    "# String is immutable object\n",
    "i = \"Aish\" "
   ]
  },
  {
   "cell_type": "code",
   "execution_count": 38,
   "id": "5c922488-592c-4aeb-a405-9b1feeadbe60",
   "metadata": {},
   "outputs": [
    {
     "data": {
      "text/plain": [
       "'Aish'"
      ]
     },
     "execution_count": 38,
     "metadata": {},
     "output_type": "execute_result"
    }
   ],
   "source": [
    "i"
   ]
  },
  {
   "cell_type": "code",
   "execution_count": 39,
   "id": "42c88beb-6903-47a6-849f-21df26d43eb0",
   "metadata": {},
   "outputs": [
    {
     "ename": "SyntaxError",
     "evalue": "cannot assign to function call here. Maybe you meant '==' instead of '='? (3213436094.py, line 1)",
     "output_type": "error",
     "traceback": [
      "\u001b[0;36m  Cell \u001b[0;32mIn[39], line 1\u001b[0;36m\u001b[0m\n\u001b[0;31m    i(0) = B\u001b[0m\n\u001b[0m    ^\u001b[0m\n\u001b[0;31mSyntaxError\u001b[0m\u001b[0;31m:\u001b[0m cannot assign to function call here. Maybe you meant '==' instead of '='?\n"
     ]
    }
   ],
   "source": [
    "i(0) = B"
   ]
  },
  {
   "cell_type": "raw",
   "id": "df503598-26df-4932-b63a-f6c51bcc08c2",
   "metadata": {},
   "source": []
  }
 ],
 "metadata": {
  "kernelspec": {
   "display_name": "Python 3 (ipykernel)",
   "language": "python",
   "name": "python3"
  },
  "language_info": {
   "codemirror_mode": {
    "name": "ipython",
    "version": 3
   },
   "file_extension": ".py",
   "mimetype": "text/x-python",
   "name": "python",
   "nbconvert_exporter": "python",
   "pygments_lexer": "ipython3",
   "version": "3.10.8"
  }
 },
 "nbformat": 4,
 "nbformat_minor": 5
}
