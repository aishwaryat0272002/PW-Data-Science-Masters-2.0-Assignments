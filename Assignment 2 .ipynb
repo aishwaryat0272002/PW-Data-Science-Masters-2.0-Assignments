{
 "cells": [
  {
   "cell_type": "raw",
   "id": "acd14148-676d-49aa-adb1-24ad2d7c3c46",
   "metadata": {},
   "source": [
    "                                        ASSIGNMENT - 2\n",
    "                \n",
    "Q1.How Do you comment code in Python? What are the different types of comments?"
   ]
  },
  {
   "cell_type": "code",
   "execution_count": null,
   "id": "d0883944-58e9-424b-9aaa-5e24842b3cbc",
   "metadata": {},
   "outputs": [],
   "source": [
    "Ans-1 # This is How we comment in python this(#) sign is for single line comment.\n",
    "      \"\"\"This is a multiline comment (***) This is used \n",
    "       for multiline comments in python \"\"\""
   ]
  },
  {
   "cell_type": "raw",
   "id": "12f35019-407b-4192-955d-2a0ccbf39233",
   "metadata": {},
   "source": [
    "Q2.What are variables in python? How do you declare and assign value to variables."
   ]
  },
  {
   "cell_type": "code",
   "execution_count": 2,
   "id": "e4f5025d-77a3-4605-a790-0c186207739b",
   "metadata": {},
   "outputs": [
    {
     "name": "stdout",
     "output_type": "stream",
     "text": [
      "4\n",
      "2\n"
     ]
    }
   ],
   "source": [
    "\"\"\" Python has no command for declaring variables..\n",
    "A Variable is created  the moment you first assign a value to it.\n",
    "Here x and y is a variable \"\"\"\n",
    "x = 4 \n",
    "y = 2 \n",
    "print(x)\n",
    "print(y)"
   ]
  },
  {
   "cell_type": "markdown",
   "id": "7fec0903-5e30-4c80-ba38-303a650c00dd",
   "metadata": {},
   "source": [
    "Q3. How do you convert one data type to another in python ?"
   ]
  },
  {
   "cell_type": "code",
   "execution_count": 9,
   "id": "c1d9a5f7-6881-4fd3-b4c5-f0f1221eb691",
   "metadata": {},
   "outputs": [],
   "source": [
    "l = [1,2,3,4, \" aish\" , True , 40.04, 5+6j]\n",
    "s = (\"Aish\", \"Tushar\", \"shubham\", \"supriya\")\n",
    "l = s"
   ]
  },
  {
   "cell_type": "code",
   "execution_count": 11,
   "id": "925de6c5-2083-4747-82b9-aac2900caf95",
   "metadata": {},
   "outputs": [
    {
     "data": {
      "text/plain": [
       "tuple"
      ]
     },
     "execution_count": 11,
     "metadata": {},
     "output_type": "execute_result"
    }
   ],
   "source": [
    "type(l)"
   ]
  },
  {
   "cell_type": "code",
   "execution_count": 12,
   "id": "e7f971ae-a3f2-4a97-9159-8e6f338b51ac",
   "metadata": {},
   "outputs": [
    {
     "data": {
      "text/plain": [
       "tuple"
      ]
     },
     "execution_count": 12,
     "metadata": {},
     "output_type": "execute_result"
    }
   ],
   "source": [
    "type(s)"
   ]
  },
  {
   "cell_type": "raw",
   "id": "3c1e3e7d-e23b-4d21-9ba3-929989649abf",
   "metadata": {},
   "source": [
    "Q4. How Do you write and execute a python script from the command line?"
   ]
  },
  {
   "cell_type": "raw",
   "id": "d395883f-2d3b-480c-b8da-fbf21a88c9cf",
   "metadata": {},
   "source": [
    "Ans-4 You need to open a command line and type the word python followed by the path to your script like this :\n",
    "python first_script.py\n",
    "Hello World!\n",
    "\n",
    "Then you hit the enter button from the keyboard and thats it."
   ]
  },
  {
   "cell_type": "raw",
   "id": "01baaff9-44f7-4508-be3f-d7bf6bbe4b2d",
   "metadata": {},
   "source": [
    "Q5. Given a list my_list = [1,2,3,4,5], Write the code to slice the list and obtain the sub-list[2,3]"
   ]
  },
  {
   "cell_type": "code",
   "execution_count": 17,
   "id": "5be935f4-e742-43df-85a7-9ad8c623706b",
   "metadata": {},
   "outputs": [
    {
     "data": {
      "text/plain": [
       "[2, 3]"
      ]
     },
     "execution_count": 17,
     "metadata": {},
     "output_type": "execute_result"
    }
   ],
   "source": [
    "my_list = [1,2,3,4,5]\n",
    "my_list[1:3]"
   ]
  },
  {
   "cell_type": "raw",
   "id": "501214d6-c0a4-4f52-bfef-4ac670116174",
   "metadata": {},
   "source": [
    "Q6. What is a complex number in mathematics, and how is it represented in python?"
   ]
  },
  {
   "cell_type": "code",
   "execution_count": 20,
   "id": "d6758493-6ab4-4f22-952d-eba9093fc904",
   "metadata": {},
   "outputs": [],
   "source": [
    "# Complex number in mathematics is a mixture of real and imaginary numbers\n",
    "l = 4 + 7j"
   ]
  },
  {
   "cell_type": "code",
   "execution_count": 21,
   "id": "8951f766-4e98-4f4c-a422-2f9d4b49384c",
   "metadata": {},
   "outputs": [
    {
     "data": {
      "text/plain": [
       "complex"
      ]
     },
     "execution_count": 21,
     "metadata": {},
     "output_type": "execute_result"
    }
   ],
   "source": [
    "type(l)"
   ]
  },
  {
   "cell_type": "code",
   "execution_count": 25,
   "id": "76615d4d-5715-4313-8f6f-fe114831d37d",
   "metadata": {},
   "outputs": [
    {
     "data": {
      "text/plain": [
       "7.0"
      ]
     },
     "execution_count": 25,
     "metadata": {},
     "output_type": "execute_result"
    }
   ],
   "source": [
    "l.imag"
   ]
  },
  {
   "cell_type": "code",
   "execution_count": 26,
   "id": "329decb5-da99-4dc0-bf75-9063f9c23cae",
   "metadata": {},
   "outputs": [
    {
     "data": {
      "text/plain": [
       "4.0"
      ]
     },
     "execution_count": 26,
     "metadata": {},
     "output_type": "execute_result"
    }
   ],
   "source": [
    "l.real"
   ]
  },
  {
   "cell_type": "raw",
   "id": "9f385826-722d-4785-af80-a6a7e93a73bb",
   "metadata": {},
   "source": [
    "Q7. What is the correct way to declare a variable named age and assign the value 25 to it?"
   ]
  },
  {
   "cell_type": "code",
   "execution_count": 29,
   "id": "5d915670-ff85-4183-a8c4-cafb5358c89d",
   "metadata": {},
   "outputs": [],
   "source": [
    "my_age = 25"
   ]
  },
  {
   "cell_type": "raw",
   "id": "c2ef7c4e-287f-406f-b285-8cd9bfc73849",
   "metadata": {},
   "source": [
    "Q8. Declare a variable named price and assign the value 9.99 to it. What data types does this variable belongs to ."
   ]
  },
  {
   "cell_type": "code",
   "execution_count": 30,
   "id": "850e09c9-4e51-4886-853f-3ae444c3bc3d",
   "metadata": {},
   "outputs": [],
   "source": [
    "price = 9.99"
   ]
  },
  {
   "cell_type": "code",
   "execution_count": 31,
   "id": "08a34ec4-b8d5-47a9-882e-ce0d72c34f31",
   "metadata": {},
   "outputs": [
    {
     "data": {
      "text/plain": [
       "float"
      ]
     },
     "execution_count": 31,
     "metadata": {},
     "output_type": "execute_result"
    }
   ],
   "source": [
    "type(price)"
   ]
  },
  {
   "cell_type": "raw",
   "id": "99fc5b62-794b-4a60-be9a-ea872f8a617c",
   "metadata": {},
   "source": [
    "Q9. Create a  variable named name and assign your full name to it as a string.How would you print the value of this variable?"
   ]
  },
  {
   "cell_type": "code",
   "execution_count": 32,
   "id": "ca91af74-d825-4ef0-b037-a0c9502445c0",
   "metadata": {},
   "outputs": [
    {
     "name": "stdout",
     "output_type": "stream",
     "text": [
      "Aishwarya Tiwari\n"
     ]
    }
   ],
   "source": [
    "name = \"Aishwarya Tiwari\"\n",
    "print(name)"
   ]
  },
  {
   "cell_type": "raw",
   "id": "79ca2a7d-1545-40fa-8996-f5b329735319",
   "metadata": {},
   "source": [
    "Q10. Give the string \"Hello, World!\", extract the substring \"World\"."
   ]
  },
  {
   "cell_type": "code",
   "execution_count": 33,
   "id": "376abf71-ea65-4db8-9a1c-b46d6af6b87c",
   "metadata": {},
   "outputs": [],
   "source": [
    "s = \"Hello, World!\""
   ]
  },
  {
   "cell_type": "code",
   "execution_count": 37,
   "id": "89e90ffe-d3a6-49c2-92f8-d7925160e6bc",
   "metadata": {},
   "outputs": [
    {
     "data": {
      "text/plain": [
       "' World'"
      ]
     },
     "execution_count": 37,
     "metadata": {},
     "output_type": "execute_result"
    }
   ],
   "source": [
    "s[6:12]"
   ]
  },
  {
   "cell_type": "raw",
   "id": "a7b35f24-7b45-4a89-a7c9-92231f43c04b",
   "metadata": {},
   "source": [
    "Q11. Create a variable named \"is_student\" and assign it a boolean value indicating whether you are currently a student or not."
   ]
  },
  {
   "cell_type": "code",
   "execution_count": 42,
   "id": "663fe771-72ad-46ac-bf91-55f9bd1be5cc",
   "metadata": {},
   "outputs": [],
   "source": [
    "is_student = True"
   ]
  }
 ],
 "metadata": {
  "kernelspec": {
   "display_name": "Python 3 (ipykernel)",
   "language": "python",
   "name": "python3"
  },
  "language_info": {
   "codemirror_mode": {
    "name": "ipython",
    "version": 3
   },
   "file_extension": ".py",
   "mimetype": "text/x-python",
   "name": "python",
   "nbconvert_exporter": "python",
   "pygments_lexer": "ipython3",
   "version": "3.10.8"
  }
 },
 "nbformat": 4,
 "nbformat_minor": 5
}
